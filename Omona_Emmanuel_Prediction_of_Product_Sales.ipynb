{
  "nbformat": 4,
  "nbformat_minor": 0,
  "metadata": {
    "colab": {
      "provenance": [],
      "authorship_tag": "ABX9TyM8cumtGM4otEFr5TEdZbe0",
      "include_colab_link": true
    },
    "kernelspec": {
      "name": "python3",
      "display_name": "Python 3"
    },
    "language_info": {
      "name": "python"
    }
  },
  "cells": [
    {
      "cell_type": "markdown",
      "metadata": {
        "id": "view-in-github",
        "colab_type": "text"
      },
      "source": [
        "<a href=\"https://colab.research.google.com/github/OMONa-E/Prediction-of-Product-Sales/blob/main/Omona_Emmanuel_Prediction_of_Product_Sales.ipynb\" target=\"_parent\"><img src=\"https://colab.research.google.com/assets/colab-badge.svg\" alt=\"Open In Colab\"/></a>"
      ]
    },
    {
      "cell_type": "markdown",
      "source": [
        "# Prediction of Product Sales\n",
        "\n",
        "- Author: Omona Emmanuel"
      ],
      "metadata": {
        "id": "QzShx3XXnX3J"
      }
    },
    {
      "cell_type": "markdown",
      "source": [
        "## Project Overview\n"
      ],
      "metadata": {
        "id": "gSQjLrO4n34z"
      }
    },
    {
      "cell_type": "markdown",
      "source": [
        "## Load and Inspect Data\n"
      ],
      "metadata": {
        "id": "Y4drABCyn4gw"
      }
    },
    {
      "cell_type": "code",
      "source": [],
      "metadata": {
        "id": "KemnippUpiMu"
      },
      "execution_count": null,
      "outputs": []
    },
    {
      "cell_type": "markdown",
      "source": [
        "## Clean Data\n"
      ],
      "metadata": {
        "id": "1K4wVF1yn5Be"
      }
    },
    {
      "cell_type": "code",
      "source": [],
      "metadata": {
        "id": "YK4sDsqmpkFb"
      },
      "execution_count": null,
      "outputs": []
    },
    {
      "cell_type": "markdown",
      "source": [
        "## Exploratory Data Analysis\n"
      ],
      "metadata": {
        "id": "m9125eROn5jo"
      }
    },
    {
      "cell_type": "code",
      "source": [],
      "metadata": {
        "id": "lZTS6SCHpmhc"
      },
      "execution_count": null,
      "outputs": []
    },
    {
      "cell_type": "markdown",
      "source": [
        "## Feature Inspection"
      ],
      "metadata": {
        "id": "AarlYS_Kn6E6"
      }
    },
    {
      "cell_type": "code",
      "execution_count": null,
      "metadata": {
        "id": "zTDrLkg-lVja"
      },
      "outputs": [],
      "source": []
    }
  ]
}